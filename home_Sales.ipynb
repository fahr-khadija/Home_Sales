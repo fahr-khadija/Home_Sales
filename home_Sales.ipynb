{
  "nbformat": 4,
  "nbformat_minor": 0,
  "metadata": {
    "colab": {
      "provenance": [],
      "gpuType": "T4",
      "authorship_tag": "ABX9TyPCFk+eqrbUXV0X4YS+frDV",
      "include_colab_link": true
    },
    "kernelspec": {
      "name": "python3",
      "display_name": "Python 3"
    },
    "language_info": {
      "name": "python"
    },
    "accelerator": "GPU"
  },
  "cells": [
    {
      "cell_type": "markdown",
      "metadata": {
        "id": "view-in-github",
        "colab_type": "text"
      },
      "source": [
        "<a href=\"https://colab.research.google.com/github/fahr-khadija/Home_Sales/blob/main/home_Sales.ipynb\" target=\"_parent\"><img src=\"https://colab.research.google.com/assets/colab-badge.svg\" alt=\"Open In Colab\"/></a>"
      ]
    },
    {
      "cell_type": "code",
      "execution_count": 1,
      "metadata": {
        "colab": {
          "base_uri": "https://localhost:8080/"
        },
        "id": "7fMnih6T_BsY",
        "outputId": "1e7bf7d7-0d48-4b31-9e3a-54e3a04e1d25"
      },
      "outputs": [
        {
          "output_type": "stream",
          "name": "stdout",
          "text": [
            "Get:1 http://security.ubuntu.com/ubuntu jammy-security InRelease [110 kB]\n",
            "Get:2 https://cloud.r-project.org/bin/linux/ubuntu jammy-cran40/ InRelease [3,626 B]\n",
            "Get:3 https://developer.download.nvidia.com/compute/cuda/repos/ubuntu2204/x86_64  InRelease [1,581 B]\n",
            "Hit:4 http://archive.ubuntu.com/ubuntu jammy InRelease\n",
            "Get:5 http://archive.ubuntu.com/ubuntu jammy-updates InRelease [119 kB]\n",
            "Hit:6 http://archive.ubuntu.com/ubuntu jammy-backports InRelease\n",
            "Get:7 https://developer.download.nvidia.com/compute/cuda/repos/ubuntu2204/x86_64  Packages [645 kB]\n",
            "Hit:8 https://ppa.launchpadcontent.net/c2d4u.team/c2d4u4.0+/ubuntu jammy InRelease\n",
            "Hit:9 https://ppa.launchpadcontent.net/deadsnakes/ppa/ubuntu jammy InRelease\n",
            "Hit:10 https://ppa.launchpadcontent.net/graphics-drivers/ppa/ubuntu jammy InRelease\n",
            "Hit:11 https://ppa.launchpadcontent.net/ubuntugis/ppa/ubuntu jammy InRelease\n",
            "Get:12 http://security.ubuntu.com/ubuntu jammy-security/universe amd64 Packages [1,049 kB]\n",
            "Get:13 http://security.ubuntu.com/ubuntu jammy-security/main amd64 Packages [1,340 kB]\n",
            "Get:14 http://security.ubuntu.com/ubuntu jammy-security/restricted amd64 Packages [1,595 kB]\n",
            "Get:15 http://archive.ubuntu.com/ubuntu jammy-updates/restricted amd64 Packages [1,631 kB]\n",
            "Get:16 http://archive.ubuntu.com/ubuntu jammy-updates/universe amd64 Packages [1,309 kB]\n",
            "Get:17 http://archive.ubuntu.com/ubuntu jammy-updates/main amd64 Packages [1,617 kB]\n",
            "Fetched 9,422 kB in 3s (2,704 kB/s)\n",
            "Reading package lists... Done\n"
          ]
        }
      ],
      "source": [
        "import os\n",
        "# Find the latest version of spark 3.x  from http://www.apache.org/dist/spark/ and enter as the spark version\n",
        "# For example:\n",
        "# spark_version = 'spark-3.5.0'\n",
        "spark_version = 'spark-3.5.0'\n",
        "os.environ['SPARK_VERSION']=spark_version\n",
        "\n",
        "# Install Spark and Java\n",
        "!apt-get update\n",
        "!apt-get install openjdk-11-jdk-headless -qq > /dev/null\n",
        "!wget -q http://archive.apache.org/dist/spark/$SPARK_VERSION/$SPARK_VERSION-bin-hadoop3.tgz\n",
        "!tar xf $SPARK_VERSION-bin-hadoop3.tgz\n",
        "!pip install -q findspark\n",
        "\n",
        "# Set Environment Variables\n",
        "os.environ[\"JAVA_HOME\"] = \"/usr/lib/jvm/java-11-openjdk-amd64\"\n",
        "os.environ[\"SPARK_HOME\"] = f\"/content/{spark_version}-bin-hadoop3\"\n",
        "\n",
        "# Start a SparkSession\n",
        "import findspark\n",
        "findspark.init()"
      ]
    },
    {
      "cell_type": "code",
      "source": [
        "# Import packages\n",
        "from pyspark.sql import SparkSession\n",
        "import time\n",
        "\n",
        "# Create a SparkSession\n",
        "spark = SparkSession.builder.appName(\"SparkSQL\").getOrCreate()"
      ],
      "metadata": {
        "id": "50ufh4G5_KrT"
      },
      "execution_count": 2,
      "outputs": []
    },
    {
      "cell_type": "code",
      "source": [
        "# 1. Read in the AWS S3 bucket into a DataFrame.\n",
        "from pyspark import SparkFiles\n",
        "url = \"https://2u-data-curriculum-team.s3.amazonaws.com/dataviz-classroom/v1.2/22-big-data/home_sales_revised.csv\"\n",
        "\n",
        "spark.sparkContext.addFile(url)\n",
        "df = spark.read.csv(SparkFiles.get(\"home_sales_revised.csv\"), sep=\",\", header=True, inferSchema=True)\n",
        "\n",
        "# Show the DataFrame\n",
        "df.show()"
      ],
      "metadata": {
        "colab": {
          "base_uri": "https://localhost:8080/"
        },
        "id": "kbJdNJgc_d2c",
        "outputId": "10d985f7-3fdb-4f6e-f0b0-c60ed94811ac"
      },
      "execution_count": 3,
      "outputs": [
        {
          "output_type": "stream",
          "name": "stdout",
          "text": [
            "+--------------------+----------+----------+------+--------+---------+-----------+--------+------+----------+----+\n",
            "|                  id|      date|date_built| price|bedrooms|bathrooms|sqft_living|sqft_lot|floors|waterfront|view|\n",
            "+--------------------+----------+----------+------+--------+---------+-----------+--------+------+----------+----+\n",
            "|f8a53099-ba1c-47d...|2022-04-08|      2016|936923|       4|        3|       3167|   11733|     2|         1|  76|\n",
            "|7530a2d8-1ae3-451...|2021-06-13|      2013|379628|       2|        2|       2235|   14384|     1|         0|  23|\n",
            "|43de979c-0bf0-4c9...|2019-04-12|      2014|417866|       2|        2|       2127|   10575|     2|         0|   0|\n",
            "|b672c137-b88c-48b...|2019-10-16|      2016|239895|       2|        2|       1631|   11149|     2|         0|   0|\n",
            "|e0726d4d-d595-407...|2022-01-08|      2017|424418|       3|        2|       2249|   13878|     2|         0|   4|\n",
            "|5aa00529-0533-46b...|2019-01-30|      2017|218712|       2|        3|       1965|   14375|     2|         0|   7|\n",
            "|131492a1-72e2-4a8...|2020-02-08|      2017|419199|       2|        3|       2062|    8876|     2|         0|   6|\n",
            "|8d54a71b-c520-44e...|2019-07-21|      2010|323956|       2|        3|       1506|   11816|     1|         0|  25|\n",
            "|e81aacfe-17fe-46b...|2020-06-16|      2016|181925|       3|        3|       2137|   11709|     2|         0|  22|\n",
            "|2ed8d509-7372-46d...|2021-08-06|      2015|258710|       3|        3|       1918|    9666|     1|         0|  25|\n",
            "|f876d86f-3c9f-42b...|2019-02-27|      2011|167864|       3|        3|       2471|   13924|     2|         0|  15|\n",
            "|0a2bd445-8508-4d8...|2021-12-30|      2014|337527|       2|        3|       1926|   12556|     1|         0|  23|\n",
            "|941bad30-eb49-4a7...|2020-05-09|      2015|229896|       3|        3|       2197|    8641|     1|         0|   3|\n",
            "|dd61eb34-6589-4c0...|2021-07-25|      2016|210247|       3|        2|       1672|   11986|     2|         0|  28|\n",
            "|f1e4cef7-d151-439...|2019-02-01|      2011|398667|       2|        3|       2331|   11356|     1|         0|   7|\n",
            "|ea620c7b-c2f7-4c6...|2021-05-31|      2011|437958|       3|        3|       2356|   11052|     1|         0|  26|\n",
            "|f233cb41-6f33-4b0...|2021-07-18|      2016|437375|       4|        3|       1704|   11721|     2|         0|  34|\n",
            "|c797ca12-52cd-4b1...|2019-06-08|      2015|288650|       2|        3|       2100|   10419|     2|         0|   7|\n",
            "|0cfe57f3-28c2-472...|2019-10-04|      2015|308313|       3|        3|       1960|    9453|     2|         0|   2|\n",
            "|4566cd2a-ac6e-435...|2019-07-15|      2016|177541|       3|        3|       2130|   10517|     2|         0|  25|\n",
            "+--------------------+----------+----------+------+--------+---------+-----------+--------+------+----------+----+\n",
            "only showing top 20 rows\n",
            "\n"
          ]
        }
      ]
    },
    {
      "cell_type": "code",
      "source": [
        "# 2. Create a temporary view of the DataFrame.\n",
        "df.createOrReplaceTempView(\"home_sales\")"
      ],
      "metadata": {
        "id": "QpkxRW2z_uKV"
      },
      "execution_count": 10,
      "outputs": []
    },
    {
      "cell_type": "code",
      "source": [
        "# 3. What is the average price for a four bedroom house sold in each year rounded to two decimal places?\n",
        "from pyspark.sql.functions import mean\n",
        "from pyspark.sql.functions import round, col\n",
        "\n",
        "House_4_bed_per_year = df.filter(df.bedrooms == 4)\\\n",
        "    .groupBy(\"date\")\\\n",
        "    .agg(round(mean(\"price\"), 2).alias(\"avg_price\"))\n",
        "\n",
        "House_4_bed_per_year.show()"
      ],
      "metadata": {
        "colab": {
          "base_uri": "https://localhost:8080/"
        },
        "id": "XlS0SEhT_00Z",
        "outputId": "4e74534a-2cd9-4153-9561-6b9ddb4157e2"
      },
      "execution_count": 5,
      "outputs": [
        {
          "output_type": "stream",
          "name": "stdout",
          "text": [
            "+----------+---------+\n",
            "|      date|avg_price|\n",
            "+----------+---------+\n",
            "|2021-11-13| 358445.0|\n",
            "|2019-05-08| 234979.5|\n",
            "|2021-08-27|275547.25|\n",
            "|2021-01-27|367520.57|\n",
            "|2021-06-22| 297708.8|\n",
            "|2021-10-11|283388.33|\n",
            "|2020-08-24|301080.75|\n",
            "|2022-03-28|338544.78|\n",
            "|2019-06-04|306373.08|\n",
            "|2021-12-18| 305264.3|\n",
            "|2020-11-29|318153.89|\n",
            "|2020-01-21| 420576.0|\n",
            "|2020-07-24| 293661.5|\n",
            "|2021-11-25|291762.27|\n",
            "|2019-11-18|290259.83|\n",
            "|2019-09-22| 284864.5|\n",
            "|2020-08-05|243835.56|\n",
            "|2019-11-01|254751.38|\n",
            "|2021-10-02|303838.38|\n",
            "|2020-08-29| 285457.3|\n",
            "+----------+---------+\n",
            "only showing top 20 rows\n",
            "\n"
          ]
        }
      ]
    },
    {
      "cell_type": "code",
      "source": [
        "# 4. What is the average price of a home for each year the home was built that have 3 bedrooms and 3 bathrooms rounded to two decimal places?\n",
        "house_3_bed_3_bath_per_year = df.filter((df.bedrooms == 3) & (df.bathrooms == 3)) \\\n",
        "    .groupBy(\"date\") \\\n",
        "    .agg(round(mean(\"price\"), 2).alias(\"avg_price\"))\n",
        "house_3_bed_3_bath_per_year.show()"
      ],
      "metadata": {
        "colab": {
          "base_uri": "https://localhost:8080/"
        },
        "id": "EHnlJT-qAtd8",
        "outputId": "2a6f07c7-0c1f-4d7a-b915-77ede1d88393"
      },
      "execution_count": 6,
      "outputs": [
        {
          "output_type": "stream",
          "name": "stdout",
          "text": [
            "+----------+---------+\n",
            "|      date|avg_price|\n",
            "+----------+---------+\n",
            "|2019-05-08|285754.71|\n",
            "|2021-06-22| 306565.0|\n",
            "|2021-01-27|385711.75|\n",
            "|2020-08-24|319252.33|\n",
            "|2021-11-13|348180.33|\n",
            "|2022-03-28| 280464.4|\n",
            "|2021-10-11| 289886.4|\n",
            "|2021-12-18| 178508.5|\n",
            "|2021-08-27|298209.33|\n",
            "|2019-06-04| 223109.0|\n",
            "|2020-08-05|304566.75|\n",
            "|2019-11-18|319833.67|\n",
            "|2020-01-21| 303045.8|\n",
            "|2021-11-25|321816.67|\n",
            "|2019-11-01| 279354.0|\n",
            "|2020-07-24| 283740.0|\n",
            "|2020-11-29| 366673.0|\n",
            "|2021-10-02| 400307.5|\n",
            "|2019-09-22| 350352.5|\n",
            "|2020-04-30| 192065.5|\n",
            "+----------+---------+\n",
            "only showing top 20 rows\n",
            "\n"
          ]
        }
      ]
    },
    {
      "cell_type": "code",
      "source": [
        "# 5. What is the average price of a home for each year built that have 3 bedrooms, 3 bathrooms, with two floors,\n",
        "# and are greater than or equal to 2,000 square feet rounded to two decimal places?\n",
        "\n",
        "house_avg_price_per_year = df.filter(\n",
        "    (df.bedrooms == 3) &\n",
        "    (df.bathrooms == 3) &\n",
        "    (df.floors == 2) &\n",
        "    (df.sqft_living >= 2000)\n",
        ") \\\n",
        "    .groupBy(\"date\") \\\n",
        "    .agg(round(mean(\"price\"), 2).alias(\"avg_price\"))\n",
        "house_avg_price_per_year.show()"
      ],
      "metadata": {
        "colab": {
          "base_uri": "https://localhost:8080/"
        },
        "id": "X_bb1vmnAxly",
        "outputId": "748a230a-6ee9-4813-e6b5-abc9cb014831"
      },
      "execution_count": 7,
      "outputs": [
        {
          "output_type": "stream",
          "name": "stdout",
          "text": [
            "+----------+---------+\n",
            "|      date|avg_price|\n",
            "+----------+---------+\n",
            "|2021-06-22| 420422.0|\n",
            "|2021-01-27| 446538.0|\n",
            "|2021-12-18| 178508.5|\n",
            "|2021-11-13| 697736.0|\n",
            "|2021-08-27| 385686.0|\n",
            "|2022-03-28| 204818.0|\n",
            "|2021-10-11| 167892.0|\n",
            "|2019-05-08| 391556.0|\n",
            "|2019-11-01|201940.33|\n",
            "|2019-11-18| 398256.0|\n",
            "|2021-10-02| 402262.0|\n",
            "|2019-09-22| 365867.0|\n",
            "|2020-01-21| 293205.0|\n",
            "|2020-04-30| 232217.0|\n",
            "|2022-01-31| 284811.0|\n",
            "|2022-05-19|302160.33|\n",
            "|2020-08-29| 423501.0|\n",
            "|2020-08-28| 296028.5|\n",
            "|2019-11-21| 428167.0|\n",
            "|2021-07-30| 346839.0|\n",
            "+----------+---------+\n",
            "only showing top 20 rows\n",
            "\n"
          ]
        }
      ]
    },
    {
      "cell_type": "code",
      "source": [
        "# 6. What is the \"view\" rating for the average price of a home, rounded to two decimal places, where the homes are greater than\n",
        "# or equal to $350,000? Although this is a small dataset, determine the run time for this query.\n",
        "\n",
        "start_time = time.time()\n",
        "\n",
        "average_view_for_expensive_homes = df.filter(df.price >= 350000) \\\n",
        "    .groupBy() \\\n",
        "    .agg(round(mean(\"view\"), 2).alias(\"avg_view_for_expensive_homes\"))\n",
        "\n",
        "average_view_for_expensive_homes.show()\n",
        "\n",
        "print(\"--- %s seconds ---\" % (time.time() - start_time))"
      ],
      "metadata": {
        "colab": {
          "base_uri": "https://localhost:8080/"
        },
        "id": "fDhUdhlPA4oZ",
        "outputId": "0de3c846-aa19-40d1-b767-b918b1f4e073"
      },
      "execution_count": 8,
      "outputs": [
        {
          "output_type": "stream",
          "name": "stdout",
          "text": [
            "+----------------------------+\n",
            "|avg_view_for_expensive_homes|\n",
            "+----------------------------+\n",
            "|                       32.26|\n",
            "+----------------------------+\n",
            "\n",
            "--- 0.9077138900756836 seconds ---\n"
          ]
        }
      ]
    },
    {
      "cell_type": "code",
      "source": [
        "# 7. Cache the the temporary table home_sales.\n",
        "spark.catalog.cacheTable(\"home_sales\")"
      ],
      "metadata": {
        "id": "jG3NVl-qDFIg"
      },
      "execution_count": 11,
      "outputs": []
    },
    {
      "cell_type": "code",
      "source": [
        "# 8. Check if the table is cached.\n",
        "spark.catalog.isCached('home_sales')"
      ],
      "metadata": {
        "colab": {
          "base_uri": "https://localhost:8080/"
        },
        "id": "4FPujBPvDTNH",
        "outputId": "f09511bc-10e2-446f-eaab-2e605d3ff6f6"
      },
      "execution_count": 13,
      "outputs": [
        {
          "output_type": "execute_result",
          "data": {
            "text/plain": [
              "True"
            ]
          },
          "metadata": {},
          "execution_count": 13
        }
      ]
    },
    {
      "cell_type": "code",
      "source": [
        "# 9. Using the cached data, run the query that filters out the view ratings with average price\n",
        "#  greater than or equal to $350,000. Determine the runtime and compare it to uncached runtime.\n",
        "\n",
        "start_time = time.time()\n",
        "cached_result = df.filter(df.price >= 350000) \\\n",
        "    .groupBy() \\\n",
        "    .agg(round(mean(\"view\"), 2).alias(\"avg_view_for_expensive_homes\"))\n",
        "\n",
        "cached_result.show()\n",
        "\n",
        "\n",
        "print(\"--- %s seconds ---\" % (time.time() - start_time))\n"
      ],
      "metadata": {
        "colab": {
          "base_uri": "https://localhost:8080/"
        },
        "id": "RYroKnqdDaw8",
        "outputId": "6d9a4015-9689-45ff-b89d-96d56f4fe771"
      },
      "execution_count": 14,
      "outputs": [
        {
          "output_type": "stream",
          "name": "stdout",
          "text": [
            "+----------------------------+\n",
            "|avg_view_for_expensive_homes|\n",
            "+----------------------------+\n",
            "|                       32.26|\n",
            "+----------------------------+\n",
            "\n",
            "--- 1.3745267391204834 seconds ---\n"
          ]
        }
      ]
    },
    {
      "cell_type": "code",
      "source": [
        "# 10. Partition by the \"date_built\" field on the formatted parquet home sales data\n",
        "df.write.partitionBy('date_built').parquet('p_sales', mode='overwrite')"
      ],
      "metadata": {
        "id": "koalxzgyEV43"
      },
      "execution_count": 15,
      "outputs": []
    },
    {
      "cell_type": "code",
      "source": [
        "# 11. Read the parquet formatted data.\n",
        "parquet_df = spark.read.parquet('p_sales')"
      ],
      "metadata": {
        "id": "u6F4ewc6EgbN"
      },
      "execution_count": 16,
      "outputs": []
    },
    {
      "cell_type": "code",
      "source": [
        "# 12. Create a temporary table for the parquet data.\n",
        "parquet_df.createOrReplaceTempView('p_sales')"
      ],
      "metadata": {
        "id": "28AOt-EcElCV"
      },
      "execution_count": 17,
      "outputs": []
    },
    {
      "cell_type": "code",
      "source": [
        "#13. Run the query that filters out the view ratings with average price of greater than or equal to $350,000\n",
        "# with the parquet DataFrame. Round your average to two decimal places.\n",
        "# Determine the runtime and compare it to the cached version.\n",
        "\n",
        "start_time = time.time()\n",
        "cached_result = parquet_df.filter(parquet_df.price >= 350000) \\\n",
        "    .groupBy() \\\n",
        "    .agg(round(mean(\"view\"), 2).alias(\"avg_view_for_expensive_homes\"))\n",
        "\n",
        "cached_result.show()\n",
        "print(\"--- %s seconds ---\" % (time.time() - start_time))"
      ],
      "metadata": {
        "colab": {
          "base_uri": "https://localhost:8080/"
        },
        "id": "GHzSO2RvEs4z",
        "outputId": "a2dfc148-81e4-458c-bf64-856c83afeaee"
      },
      "execution_count": 18,
      "outputs": [
        {
          "output_type": "stream",
          "name": "stdout",
          "text": [
            "+----------------------------+\n",
            "|avg_view_for_expensive_homes|\n",
            "+----------------------------+\n",
            "|                       32.26|\n",
            "+----------------------------+\n",
            "\n",
            "--- 0.5308773517608643 seconds ---\n"
          ]
        }
      ]
    },
    {
      "cell_type": "code",
      "source": [
        "# 14. Uncache the home_sales temporary table.\n",
        "spark.catalog.uncacheTable(\"home_sales\")"
      ],
      "metadata": {
        "id": "invHN-39FFLO"
      },
      "execution_count": 19,
      "outputs": []
    },
    {
      "cell_type": "code",
      "source": [
        "# 15. Check if the home_sales is no longer cached\n",
        "\n",
        "spark.stop()"
      ],
      "metadata": {
        "id": "-IzdqXpVFJ6x"
      },
      "execution_count": 20,
      "outputs": []
    }
  ]
}